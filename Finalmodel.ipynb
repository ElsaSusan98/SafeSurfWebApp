{
 "cells": [
  {
   "cell_type": "code",
   "execution_count": 1,
   "metadata": {
    "colab": {
     "base_uri": "https://localhost:8080/"
    },
    "id": "jKgJ14hlnkyg",
    "outputId": "54d3dc17-aacc-48da-e88f-1dd0850baea2"
   },
   "outputs": [
    {
     "name": "stdout",
     "output_type": "stream",
     "text": [
      "Requirement already satisfied: tldextract in /Users/elsasusan/anaconda3/lib/python3.11/site-packages (3.2.0)\n",
      "Requirement already satisfied: idna in /Users/elsasusan/anaconda3/lib/python3.11/site-packages (from tldextract) (3.4)\n",
      "Requirement already satisfied: requests>=2.1.0 in /Users/elsasusan/anaconda3/lib/python3.11/site-packages (from tldextract) (2.31.0)\n",
      "Requirement already satisfied: requests-file>=1.4 in /Users/elsasusan/anaconda3/lib/python3.11/site-packages (from tldextract) (1.5.1)\n",
      "Requirement already satisfied: filelock>=3.0.8 in /Users/elsasusan/anaconda3/lib/python3.11/site-packages (from tldextract) (3.9.0)\n",
      "Requirement already satisfied: charset-normalizer<4,>=2 in /Users/elsasusan/anaconda3/lib/python3.11/site-packages (from requests>=2.1.0->tldextract) (2.0.4)\n",
      "Requirement already satisfied: urllib3<3,>=1.21.1 in /Users/elsasusan/anaconda3/lib/python3.11/site-packages (from requests>=2.1.0->tldextract) (1.26.16)\n",
      "Requirement already satisfied: certifi>=2017.4.17 in /Users/elsasusan/anaconda3/lib/python3.11/site-packages (from requests>=2.1.0->tldextract) (2023.7.22)\n",
      "Requirement already satisfied: six in /Users/elsasusan/anaconda3/lib/python3.11/site-packages (from requests-file>=1.4->tldextract) (1.16.0)\n",
      "Note: you may need to restart the kernel to use updated packages.\n"
     ]
    }
   ],
   "source": [
    "pip install tldextract"
   ]
  },
  {
   "cell_type": "code",
   "execution_count": 2,
   "metadata": {
    "id": "Q2p3JNK3ng1y"
   },
   "outputs": [],
   "source": [
    "import requests\n",
    "from bs4 import BeautifulSoup\n",
    "import whois\n",
    "import tldextract\n",
    "import socket\n",
    "from datetime import datetime\n",
    "import pandas as pd\n",
    "\n",
    "def extract_features(url):\n",
    "    features = {}\n",
    "    try:\n",
    "        response = requests.get(url)\n",
    "        soup = BeautifulSoup(response.text, 'html.parser')\n",
    "    except:\n",
    "        response = None\n",
    "        soup = None\n",
    "\n",
    "    #features['Domain'] = extract_domain(url)\n",
    "    features['Have_IP'] = have_ip(url)\n",
    "    features['Have_At'] = have_at(url)\n",
    "    features['URL_Length'] = len(url)\n",
    "    features['URL_Depth'] = url_depth(url)\n",
    "    features['Redirection'] = redirection(response)\n",
    "    features['https_Domain'] = https_domain(url)\n",
    "    features['TinyURL'] = tiny_url(url)\n",
    "    features['Prefix/Suffix'] = prefix_suffix(url)\n",
    "    features['DNS_Record'] = dns_record(url)\n",
    "    features['Web_Traffic'] = web_traffic(url)\n",
    "    features['Domain_Age'] = domain_age(url)\n",
    "    features['Domain_End'] = domain_end(url)\n",
    "    features['iFrame'] = iframe(soup)\n",
    "    features['Mouse_Over'] = mouse_over(response)\n",
    "    features['Right_Click'] = right_click(response)\n",
    "    features['Web_Forwards'] = web_forwards(response)\n",
    "    features['Num_Dots'] = num_dots(url)\n",
    "    features['HTTPS_Token'] = https_token(url)\n",
    "    features['Suspicious_Words'] = suspicious_words(url)\n",
    "    features['Content_Length'] = content_length(soup)\n",
    "    features['Num_Images'] = num_images(soup)\n",
    "    features['Num_Scripts'] = num_scripts(soup)\n",
    "\n",
    "    features['Label'] = None\n",
    "\n",
    "    return features\n",
    "\n",
    "\n",
    "\n",
    "def have_ip(url):\n",
    "    try:\n",
    "        socket.inet_aton(url)\n",
    "        return 1\n",
    "    except socket.error:\n",
    "        return 0\n",
    "\n",
    "def have_at(url):\n",
    "    return 1 if '@' in url else 0\n",
    "\n",
    "def url_depth(url):\n",
    "    return len(url.split('/')) - 3\n",
    "\n",
    "def redirection(response):\n",
    "    return 1 if response and len(response.history) > 0 else 0\n",
    "\n",
    "def https_domain(url):\n",
    "    return 1 if 'https' in url else 0\n",
    "\n",
    "def tiny_url(url):\n",
    "    return 1 if len(url) < 20 else 0\n",
    "\n",
    "def prefix_suffix(url):\n",
    "    return 1 if '-' in tldextract.extract(url).domain else 0\n",
    "\n",
    "def dns_record(url):\n",
    "    try:\n",
    "        domain = tldextract.extract(url).fqdn\n",
    "        socket.gethostbyname(domain)\n",
    "        return 1\n",
    "    except socket.gaierror:\n",
    "        return 0\n",
    "\n",
    "def web_traffic(url):\n",
    "    return 0\n",
    "\n",
    "def domain_age(url):\n",
    "    try:\n",
    "        domain = tldextract.extract(url).fqdn\n",
    "        w = whois.whois(domain)\n",
    "        creation_date = w.creation_date\n",
    "        if isinstance(creation_date, list):\n",
    "            creation_date = creation_date[0]\n",
    "        age = (datetime.now() - creation_date).days\n",
    "        return age\n",
    "    except:\n",
    "        return -1\n",
    "\n",
    "def domain_end(url):\n",
    "    try:\n",
    "        domain = tldextract.extract(url).fqdn\n",
    "        w = whois.whois(domain)\n",
    "        expiration_date = w.expiration_date\n",
    "        if isinstance(expiration_date, list):\n",
    "            expiration_date = expiration_date[0]\n",
    "        days_to_end = (expiration_date - datetime.now()).days\n",
    "        return days_to_end\n",
    "    except:\n",
    "        return -1\n",
    "\n",
    "def iframe(soup):\n",
    "    return 1 if soup and soup.find('iframe') else 0\n",
    "\n",
    "def mouse_over(response):\n",
    "    return 1 if response and \"onmouseover\" in response.text else 0\n",
    "\n",
    "def right_click(response):\n",
    "    return 1 if response and \"event.button == 2\" in response.text else 0\n",
    "\n",
    "def web_forwards(response):\n",
    "    return 1 if response and len(response.history) > 1 else 0\n",
    "\n",
    "def num_dots(url):\n",
    "    return url.count('.')\n",
    "\n",
    "def https_token(url):\n",
    "    domain = tldextract.extract(url)\n",
    "    return 1 if 'https' in domain.domain else 0\n",
    "\n",
    "def suspicious_words(url):\n",
    "    suspicious_keywords = ['free', 'login', 'secure', 'account', 'update']\n",
    "    return 1 if any(keyword in url.lower() for keyword in suspicious_keywords) else 0\n",
    "\n",
    "def content_length(soup):\n",
    "    return len(soup.get_text()) if soup else 0\n",
    "\n",
    "def num_images(soup):\n",
    "    return len(soup.find_all('img')) if soup else 0\n",
    "\n",
    "def num_scripts(soup):\n",
    "    return len(soup.find_all('script')) if soup else 0"
   ]
  },
  {
   "cell_type": "code",
   "execution_count": 5,
   "metadata": {
    "colab": {
     "base_uri": "https://localhost:8080/"
    },
    "id": "datll7bPlAfK",
    "outputId": "891208d3-e1a2-46d9-fd8c-a384740def7e"
   },
   "outputs": [
    {
     "name": "stdout",
     "output_type": "stream",
     "text": [
      "Evaluating Support Vector Machine\n",
      "Accuracy: 0.996\n",
      "              precision    recall  f1-score   support\n",
      "\n",
      "           0       1.00      0.99      1.00       988\n",
      "           1       1.00      1.00      1.00      1012\n",
      "\n",
      "    accuracy                           1.00      2000\n",
      "   macro avg       1.00      1.00      1.00      2000\n",
      "weighted avg       1.00      1.00      1.00      2000\n",
      "\n",
      "\n",
      "==================================================\n",
      "\n",
      "Evaluating Logistic Regression\n",
      "Accuracy: 0.961\n",
      "              precision    recall  f1-score   support\n",
      "\n",
      "           0       0.97      0.95      0.96       988\n",
      "           1       0.95      0.97      0.96      1012\n",
      "\n",
      "    accuracy                           0.96      2000\n",
      "   macro avg       0.96      0.96      0.96      2000\n",
      "weighted avg       0.96      0.96      0.96      2000\n",
      "\n",
      "\n",
      "==================================================\n",
      "\n",
      "Evaluating Decision Tree\n",
      "Accuracy: 0.9985\n",
      "              precision    recall  f1-score   support\n",
      "\n",
      "           0       1.00      1.00      1.00       988\n",
      "           1       1.00      1.00      1.00      1012\n",
      "\n",
      "    accuracy                           1.00      2000\n",
      "   macro avg       1.00      1.00      1.00      2000\n",
      "weighted avg       1.00      1.00      1.00      2000\n",
      "\n",
      "\n",
      "==================================================\n",
      "\n",
      "Evaluating Random Forest\n",
      "Accuracy: 0.9985\n",
      "              precision    recall  f1-score   support\n",
      "\n",
      "           0       1.00      1.00      1.00       988\n",
      "           1       1.00      1.00      1.00      1012\n",
      "\n",
      "    accuracy                           1.00      2000\n",
      "   macro avg       1.00      1.00      1.00      2000\n",
      "weighted avg       1.00      1.00      1.00      2000\n",
      "\n",
      "\n",
      "==================================================\n",
      "\n",
      "Evaluating XGBoost\n",
      "Accuracy: 0.999\n",
      "              precision    recall  f1-score   support\n",
      "\n",
      "           0       1.00      1.00      1.00       988\n",
      "           1       1.00      1.00      1.00      1012\n",
      "\n",
      "    accuracy                           1.00      2000\n",
      "   macro avg       1.00      1.00      1.00      2000\n",
      "weighted avg       1.00      1.00      1.00      2000\n",
      "\n",
      "\n",
      "==================================================\n",
      "\n"
     ]
    }
   ],
   "source": [
    "import pandas as pd\n",
    "from sklearn.model_selection import train_test_split\n",
    "from sklearn.preprocessing import StandardScaler\n",
    "from sklearn.svm import SVC\n",
    "from sklearn.linear_model import LogisticRegression\n",
    "from sklearn.tree import DecisionTreeClassifier\n",
    "from sklearn.ensemble import RandomForestClassifier\n",
    "from xgboost import XGBClassifier\n",
    "from sklearn.metrics import classification_report, accuracy_score\n",
    "import joblib\n",
    "\n",
    "df = pd.read_csv('./Dataset/url_features.csv')\n",
    "df.head()\n",
    "\n",
    "df.dropna(inplace=True)\n",
    "\n",
    "X = df.drop(columns=['Label'])\n",
    "y = df['Label']\n",
    "\n",
    "X_train, X_test, y_train, y_test = train_test_split(X, y, test_size=0.2, random_state=42)\n",
    "\n",
    "scaler = StandardScaler()\n",
    "X_train = scaler.fit_transform(X_train)\n",
    "X_test = scaler.transform(X_test)\n",
    "\n",
    "joblib.dump(scaler, 'scaler.pkl')\n",
    "\n",
    "\n",
    "svm = SVC()\n",
    "svm.fit(X_train, y_train)\n",
    "joblib.dump(svm, 'svm_model.pkl')\n",
    "\n",
    "lr = LogisticRegression()\n",
    "lr.fit(X_train, y_train)\n",
    "joblib.dump(lr, 'lr_model.pkl')\n",
    "\n",
    "dt = DecisionTreeClassifier()\n",
    "dt.fit(X_train, y_train)\n",
    "joblib.dump(dt, 'dt_model.pkl')\n",
    "\n",
    "rf = RandomForestClassifier()\n",
    "rf.fit(X_train, y_train)\n",
    "joblib.dump(rf, 'rf_model.pkl')\n",
    "\n",
    "xgb = XGBClassifier()\n",
    "xgb.fit(X_train, y_train)\n",
    "joblib.dump(xgb, 'xgb_model.pkl')\n",
    "\n",
    "def evaluate_model(model, X_test, y_test):\n",
    "    y_pred = model.predict(X_test)\n",
    "    print(f\"Accuracy: {accuracy_score(y_test, y_pred)}\")\n",
    "    print(classification_report(y_test, y_pred))\n",
    "\n",
    "models = {\n",
    "    \"Support Vector Machine\": joblib.load('svm_model.pkl'),\n",
    "    \"Logistic Regression\": joblib.load('lr_model.pkl'),\n",
    "    \"Decision Tree\": joblib.load('dt_model.pkl'),\n",
    "    \"Random Forest\": joblib.load('rf_model.pkl'),\n",
    "    \"XGBoost\": joblib.load('xgb_model.pkl')\n",
    "}\n",
    "\n",
    "for name, model in models.items():\n",
    "    print(f\"Evaluating {name}\")\n",
    "    evaluate_model(model, X_test, y_test)\n",
    "    print(\"\\n\" + \"=\"*50 + \"\\n\")\n",
    "\n"
   ]
  },
  {
   "cell_type": "code",
   "execution_count": 6,
   "metadata": {
    "colab": {
     "base_uri": "https://localhost:8080/"
    },
    "id": "m2E6OE4hQx6D",
    "outputId": "e3664102-28e8-4078-f8b2-aa0aadad0f06"
   },
   "outputs": [
    {
     "name": "stdout",
     "output_type": "stream",
     "text": [
      "Label\n",
      "1    5000\n",
      "0    5000\n",
      "Name: count, dtype: int64\n"
     ]
    }
   ],
   "source": [
    "#Check for Class Imbalance\n",
    "print(df['Label'].value_counts())"
   ]
  },
  {
   "cell_type": "code",
   "execution_count": 7,
   "metadata": {
    "colab": {
     "base_uri": "https://localhost:8080/",
     "height": 450
    },
    "id": "rkF_FDPpROcx",
    "outputId": "9117d262-41a0-41e5-da81-e2ff5f131342"
   },
   "outputs": [
    {
     "data": {
      "image/png": "[encoded data removed]",
      "text/plain": [
       "<Figure size 640x480 with 2 Axes>"
      ]
     },
     "metadata": {},
     "output_type": "display_data"
    }
   ],
   "source": [
    "#Confusion Matrix\n",
    "from sklearn.metrics import confusion_matrix\n",
    "import seaborn as sns\n",
    "import matplotlib.pyplot as plt\n",
    "\n",
    "y_pred = models[\"XGBoost\"].predict(X_test)  # Replace with the model you want to check\n",
    "cm = confusion_matrix(y_test, y_pred)\n",
    "sns.heatmap(cm, annot=True, fmt='d', cmap='Blues')\n",
    "plt.xlabel('Predicted')\n",
    "plt.ylabel('Actual')\n",
    "plt.show()"
   ]
  },
  {
   "cell_type": "code",
   "execution_count": 8,
   "metadata": {
    "colab": {
     "base_uri": "https://localhost:8080/"
    },
    "id": "CNpp5XiqRa2A",
    "outputId": "70aeff55-6692-40cd-9fc2-ced72afc7793"
   },
   "outputs": [
    {
     "name": "stdout",
     "output_type": "stream",
     "text": [
      "Cross-validation scores: [0.531  0.998  0.999  0.983  0.9655]\n",
      "Average score: 0.8953\n"
     ]
    }
   ],
   "source": [
    "#Cross-Validation\n",
    "from sklearn.model_selection import cross_val_score\n",
    "\n",
    "scores = cross_val_score(models[\"XGBoost\"], X, y, cv=5)\n",
    "print(f\"Cross-validation scores: {scores}\")\n",
    "print(f\"Average score: {scores.mean()}\")\n"
   ]
  },
  {
   "cell_type": "code",
   "execution_count": 9,
   "metadata": {
    "colab": {
     "base_uri": "https://localhost:8080/"
    },
    "id": "qkZsPpMPl0oi",
    "outputId": "f5e10651-9c15-4021-e882-055d70fd4326"
   },
   "outputs": [
    {
     "name": "stdout",
     "output_type": "stream",
     "text": [
      "   Have_IP  Have_At  URL_Length  URL_Depth  Redirection  https_Domain  \\\n",
      "0        0        0         117          4            0             1   \n",
      "\n",
      "   TinyURL  Prefix/Suffix  DNS_Record  Web_Traffic  ...  Mouse_Over  \\\n",
      "0        0              0           1            0  ...           0   \n",
      "\n",
      "   Right_Click  Web_Forwards  Num_Dots  HTTPS_Token  Suspicious_Words  \\\n",
      "0            0             0         2            0                 0   \n",
      "\n",
      "   Content_Length  Num_Images  Num_Scripts  Label  \n",
      "0              90           0           16   None  \n",
      "\n",
      "[1 rows x 23 columns]\n",
      "Support Vector Machine: phishing\n",
      "Logistic Regression: phishing\n",
      "Decision Tree: phishing\n",
      "Random Forest: phishing\n",
      "XGBoost: phishing\n"
     ]
    }
   ],
   "source": [
    "def predict_url(url, models, scaler):\n",
    "    # Extract features from the URL\n",
    "    features = extract_features(url)\n",
    "\n",
    "    # Convert features to DataFrame\n",
    "    features_df = pd.DataFrame([features])\n",
    "    print(features_df)\n",
    "    features_df = features_df.drop(columns=['Label'])\n",
    "    # Scale the features using the loaded scaler\n",
    "    scaled_features = scaler.transform(features_df)\n",
    "\n",
    "    # Predict the label for the URL using each model\n",
    "    predictions = {}\n",
    "    for name, model in models.items():\n",
    "        prediction = model.predict(scaled_features)\n",
    "        predictions[name] = 'phishing' if prediction[0] == 1 else 'benign'\n",
    "\n",
    "    return predictions\n",
    "\n",
    "# Example URL\n",
    "url = \"https://www.kaggle.com/datasets/eswarchandt/phishing-website-detector/suggestions?status=pending&yourSuggestions=true\"  # Replace with the actual URL\n",
    "predictions = predict_url(url, models, scaler)\n",
    "\n",
    "# Print the predictions\n",
    "for model_name, prediction in predictions.items():\n",
    "    print(f\"{model_name}: {prediction}\")\n"
   ]
  },
  {
   "cell_type": "code",
   "execution_count": null,
   "metadata": {
    "id": "H2IgRt5snvJP"
   },
   "outputs": [],
   "source": []
  }
 ],
 "metadata": {
  "colab": {
   "provenance": []
  },
  "kernelspec": {
   "display_name": "Python 3 (ipykernel)",
   "language": "python",
   "name": "python3"
  },
  "language_info": {
   "codemirror_mode": {
    "name": "ipython",
    "version": 3
   },
   "file_extension": ".py",
   "mimetype": "text/x-python",
   "name": "python",
   "nbconvert_exporter": "python",
   "pygments_lexer": "ipython3",
   "version": "3.11.5"
  }
 },
 "nbformat": 4,
 "nbformat_minor": 1
}
